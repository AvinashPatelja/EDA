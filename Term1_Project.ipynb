{
 "cells": [
  {
   "cell_type": "markdown",
   "metadata": {},
   "source": [
    "# Data analysis on IPL Matches"
   ]
  },
  {
   "cell_type": "markdown",
   "metadata": {},
   "source": [
    "## History on Dataset"
   ]
  },
  {
   "cell_type": "raw",
   "metadata": {},
   "source": [
    "The Indian Premier League (IPL), was founded by the Board of Control for Cricket in India (BCCI) in 2008.\n",
    "IPL became the first sporting event in the world to be broadcast live on YouTube.\n",
    " \n",
    "There have been eleven seasons of the IPL tournament. The current IPL title holders are the Chennai Super Kings, who won the 2018 season. The most successful franchises in the tournament are the Chennai Super Kings and Mumbai Indians with 3 tournament wins each.\n",
    "\n",
    "Currently, with eight teams, each team plays each other twice in a home-and-away round-robin format in the \n",
    "league phase.\n",
    "At the conclusion of the league stage, the top four teams will qualify for the playoffs. \n",
    "The top two teams from the league phase will play against each other in the first Qualifying match, \n",
    "with the winner going straight to the IPL final."
   ]
  },
  {
   "cell_type": "markdown",
   "metadata": {},
   "source": [
    "### Expectaion from the Data Analysis"
   ]
  },
  {
   "cell_type": "raw",
   "metadata": {},
   "source": [
    "Key factors affecting outcomes of matches will be analyzed. Some factors that affect match outcomes could be venue (stadium), city, toss winner, and toss decision (field/bat), batsman, bowler, runs scored etc.."
   ]
  },
  {
   "cell_type": "markdown",
   "metadata": {},
   "source": [
    "### Questions to be answered:"
   ]
  },
  {
   "cell_type": "raw",
   "metadata": {},
   "source": [
    "How many matches we’ve got in the dataset?\n",
    "How many seasons we’ve got in the dataset?\n",
    "Which Team had won by maximum runs?\n",
    "Which Team had won by maximum wicket?\n",
    "Which Team had won by closest Margin (minimum runs)?\n",
    "Which Team had won by minimum wicket?\n",
    "Which Season had most number of matches?\n",
    "Which IPL Team is more successful?\n",
    "Has Toss-winning helped in winning matches?\n",
    "Toss-winning team opted for Bat/Field - Season wise\n",
    "Toss-winning team opted for Bat/Field - Team wise\n",
    "Study on match Result - Normal/Tie/No-result\n",
    "Result of the match - Team wise"
   ]
  },
  {
   "cell_type": "markdown",
   "metadata": {},
   "source": [
    "Import Packages"
   ]
  },
  {
   "cell_type": "code",
   "execution_count": 2,
   "metadata": {},
   "outputs": [],
   "source": [
    "import numpy as np # numerical computing \n",
    "import pandas as pd # data processing, CSV file I/O (e.g. pd.read_csv)\n",
    "import matplotlib.pyplot as plt #visualization\n",
    "import seaborn as sns #modern visualization\n",
    "import pandas_profiling"
   ]
  },
  {
   "cell_type": "code",
   "execution_count": 3,
   "metadata": {},
   "outputs": [],
   "source": [
    "df_matches = pd.read_csv(r'https://raw.githubusercontent.com/insaid2018/Term-1/master/Data/Projects/matches.csv')"
   ]
  },
  {
   "cell_type": "code",
   "execution_count": 4,
   "metadata": {},
   "outputs": [],
   "source": [
    "profile = pandas_profiling.ProfileReport(df_matches)\n",
    "profile.to_file(outputfile=\"IPL_Match.html\")"
   ]
  },
  {
   "cell_type": "code",
   "execution_count": 80,
   "metadata": {},
   "outputs": [
    {
     "data": {
      "text/plain": [
       "(696, 18)"
      ]
     },
     "execution_count": 80,
     "metadata": {},
     "output_type": "execute_result"
    }
   ],
   "source": [
    "df_matches.shape"
   ]
  },
  {
   "cell_type": "code",
   "execution_count": 24,
   "metadata": {},
   "outputs": [
    {
     "data": {
      "text/plain": [
       "<bound method DataFrame.info of        id  season       city        date                        team1  \\\n",
       "0       1    2017  Hyderabad  2017-04-05          Sunrisers Hyderabad   \n",
       "1       2    2017       Pune  2017-04-06               Mumbai Indians   \n",
       "2       3    2017     Rajkot  2017-04-07                Gujarat Lions   \n",
       "3       4    2017     Indore  2017-04-08       Rising Pune Supergiant   \n",
       "4       5    2017  Bangalore  2017-04-08  Royal Challengers Bangalore   \n",
       "5       6    2017  Hyderabad  2017-04-09                Gujarat Lions   \n",
       "6       7    2017     Mumbai  2017-04-09        Kolkata Knight Riders   \n",
       "7       8    2017     Indore  2017-04-10  Royal Challengers Bangalore   \n",
       "8       9    2017       Pune  2017-04-11             Delhi Daredevils   \n",
       "9      10    2017     Mumbai  2017-04-12          Sunrisers Hyderabad   \n",
       "10     11    2017    Kolkata  2017-04-13              Kings XI Punjab   \n",
       "11     12    2017  Bangalore  2017-04-14  Royal Challengers Bangalore   \n",
       "12     13    2017     Rajkot  2017-04-14       Rising Pune Supergiant   \n",
       "13     14    2017    Kolkata  2017-04-15        Kolkata Knight Riders   \n",
       "14     15    2017      Delhi  2017-04-15             Delhi Daredevils   \n",
       "15     16    2017     Mumbai  2017-04-16                Gujarat Lions   \n",
       "16     17    2017  Bangalore  2017-04-16       Rising Pune Supergiant   \n",
       "17     18    2017      Delhi  2017-04-17             Delhi Daredevils   \n",
       "18     19    2017  Hyderabad  2017-04-17          Sunrisers Hyderabad   \n",
       "19     20    2017     Rajkot  2017-04-18  Royal Challengers Bangalore   \n",
       "20     21    2017  Hyderabad  2017-04-19          Sunrisers Hyderabad   \n",
       "21     22    2017     Indore  2017-04-20              Kings XI Punjab   \n",
       "22     23    2017    Kolkata  2017-04-21        Kolkata Knight Riders   \n",
       "23     24    2017     Mumbai  2017-04-22               Mumbai Indians   \n",
       "24     25    2017       Pune  2017-04-22          Sunrisers Hyderabad   \n",
       "25     26    2017     Rajkot  2017-04-23              Kings XI Punjab   \n",
       "26     27    2017    Kolkata  2017-04-23        Kolkata Knight Riders   \n",
       "27     28    2017     Mumbai  2017-04-24       Rising Pune Supergiant   \n",
       "28     29    2017       Pune  2017-04-26       Rising Pune Supergiant   \n",
       "29     30    2017  Bangalore  2017-04-27  Royal Challengers Bangalore   \n",
       "..    ...     ...        ...         ...                          ...   \n",
       "666  7924    2018  Bengaluru    01/05/18  Royal Challengers Bangalore   \n",
       "667  7925    2018      Delhi    02/05/18             Delhi Daredevils   \n",
       "668  7926    2018    Kolkata    03/05/18          Chennai Super Kings   \n",
       "669  7927    2018     Indore    04/05/18              Kings XI Punjab   \n",
       "670  7928    2018       Pune    05/05/18  Royal Challengers Bangalore   \n",
       "671  7929    2018  Hyderabad    05/05/18             Delhi Daredevils   \n",
       "672  7930    2018     Mumbai    06/05/18               Mumbai Indians   \n",
       "673  7931    2018     Indore    06/05/18             Rajasthan Royals   \n",
       "674  7932    2018  Hyderabad    07/05/18          Sunrisers Hyderabad   \n",
       "675  7933    2018     Jaipur    08/05/18             Rajasthan Royals   \n",
       "676  7934    2018    Kolkata    09/05/18               Mumbai Indians   \n",
       "677  7935    2018      Delhi    10/05/18             Delhi Daredevils   \n",
       "678  7936    2018     Jaipur    11/05/18          Chennai Super Kings   \n",
       "679  7937    2018     Indore    12/05/18        Kolkata Knight Riders   \n",
       "680  7938    2018      Delhi    12/05/18             Delhi Daredevils   \n",
       "681  7939    2018       Pune    13/05/18          Sunrisers Hyderabad   \n",
       "682  7940    2018     Mumbai    13/05/18               Mumbai Indians   \n",
       "683  7941    2018     Indore    14/05/18              Kings XI Punjab   \n",
       "684  7942    2018    Kolkata    15/05/18             Rajasthan Royals   \n",
       "685  7943    2018     Mumbai    16/05/18               Mumbai Indians   \n",
       "686  7944    2018  Bengaluru    17/05/18  Royal Challengers Bangalore   \n",
       "687  7945    2018      Delhi    18/05/18             Delhi Daredevils   \n",
       "688  7946    2018     Jaipur    19/05/18             Rajasthan Royals   \n",
       "689  7947    2018  Hyderabad    19/05/18          Sunrisers Hyderabad   \n",
       "690  7948    2018      Delhi    20/05/18             Delhi Daredevils   \n",
       "691  7949    2018       Pune    20/05/18              Kings XI Punjab   \n",
       "692  7950    2018     Mumbai    22/05/18          Sunrisers Hyderabad   \n",
       "693  7951    2018    Kolkata    23/05/18        Kolkata Knight Riders   \n",
       "694  7952    2018    Kolkata    25/05/18          Sunrisers Hyderabad   \n",
       "695  7953    2018     Mumbai    27/05/18          Sunrisers Hyderabad   \n",
       "\n",
       "                           team2                  toss_winner toss_decision  \\\n",
       "0    Royal Challengers Bangalore  Royal Challengers Bangalore         field   \n",
       "1         Rising Pune Supergiant       Rising Pune Supergiant         field   \n",
       "2          Kolkata Knight Riders        Kolkata Knight Riders         field   \n",
       "3                Kings XI Punjab              Kings XI Punjab         field   \n",
       "4               Delhi Daredevils  Royal Challengers Bangalore           bat   \n",
       "5            Sunrisers Hyderabad          Sunrisers Hyderabad         field   \n",
       "6                 Mumbai Indians               Mumbai Indians         field   \n",
       "7                Kings XI Punjab  Royal Challengers Bangalore           bat   \n",
       "8         Rising Pune Supergiant       Rising Pune Supergiant         field   \n",
       "9                 Mumbai Indians               Mumbai Indians         field   \n",
       "10         Kolkata Knight Riders        Kolkata Knight Riders         field   \n",
       "11                Mumbai Indians               Mumbai Indians         field   \n",
       "12                 Gujarat Lions                Gujarat Lions         field   \n",
       "13           Sunrisers Hyderabad          Sunrisers Hyderabad         field   \n",
       "14               Kings XI Punjab             Delhi Daredevils           bat   \n",
       "15                Mumbai Indians               Mumbai Indians         field   \n",
       "16   Royal Challengers Bangalore  Royal Challengers Bangalore         field   \n",
       "17         Kolkata Knight Riders             Delhi Daredevils           bat   \n",
       "18               Kings XI Punjab              Kings XI Punjab         field   \n",
       "19                 Gujarat Lions                Gujarat Lions         field   \n",
       "20              Delhi Daredevils          Sunrisers Hyderabad           bat   \n",
       "21                Mumbai Indians               Mumbai Indians         field   \n",
       "22                 Gujarat Lions                Gujarat Lions         field   \n",
       "23              Delhi Daredevils             Delhi Daredevils         field   \n",
       "24        Rising Pune Supergiant       Rising Pune Supergiant         field   \n",
       "25                 Gujarat Lions                Gujarat Lions         field   \n",
       "26   Royal Challengers Bangalore  Royal Challengers Bangalore         field   \n",
       "27                Mumbai Indians               Mumbai Indians         field   \n",
       "28         Kolkata Knight Riders        Kolkata Knight Riders         field   \n",
       "29                 Gujarat Lions                Gujarat Lions         field   \n",
       "..                           ...                          ...           ...   \n",
       "666               Mumbai Indians               Mumbai Indians         field   \n",
       "667             Rajasthan Royals             Rajasthan Royals         field   \n",
       "668        Kolkata Knight Riders        Kolkata Knight Riders         field   \n",
       "669               Mumbai Indians               Mumbai Indians         field   \n",
       "670          Chennai Super Kings          Chennai Super Kings         field   \n",
       "671          Sunrisers Hyderabad             Delhi Daredevils           bat   \n",
       "672        Kolkata Knight Riders        Kolkata Knight Riders         field   \n",
       "673              Kings XI Punjab              Kings XI Punjab         field   \n",
       "674  Royal Challengers Bangalore  Royal Challengers Bangalore         field   \n",
       "675              Kings XI Punjab             Rajasthan Royals           bat   \n",
       "676        Kolkata Knight Riders        Kolkata Knight Riders         field   \n",
       "677          Sunrisers Hyderabad             Delhi Daredevils           bat   \n",
       "678             Rajasthan Royals          Chennai Super Kings           bat   \n",
       "679              Kings XI Punjab              Kings XI Punjab         field   \n",
       "680  Royal Challengers Bangalore  Royal Challengers Bangalore         field   \n",
       "681          Chennai Super Kings          Chennai Super Kings         field   \n",
       "682             Rajasthan Royals             Rajasthan Royals         field   \n",
       "683  Royal Challengers Bangalore  Royal Challengers Bangalore         field   \n",
       "684        Kolkata Knight Riders        Kolkata Knight Riders         field   \n",
       "685              Kings XI Punjab              Kings XI Punjab         field   \n",
       "686          Sunrisers Hyderabad          Sunrisers Hyderabad         field   \n",
       "687          Chennai Super Kings          Chennai Super Kings         field   \n",
       "688  Royal Challengers Bangalore             Rajasthan Royals           bat   \n",
       "689        Kolkata Knight Riders          Sunrisers Hyderabad           bat   \n",
       "690               Mumbai Indians             Delhi Daredevils           bat   \n",
       "691          Chennai Super Kings          Chennai Super Kings         field   \n",
       "692          Chennai Super Kings          Chennai Super Kings         field   \n",
       "693             Rajasthan Royals             Rajasthan Royals         field   \n",
       "694        Kolkata Knight Riders        Kolkata Knight Riders         field   \n",
       "695          Chennai Super Kings          Chennai Super Kings         field   \n",
       "\n",
       "     result  dl_applied                       winner  win_by_runs  \\\n",
       "0    normal           0          Sunrisers Hyderabad           35   \n",
       "1    normal           0       Rising Pune Supergiant            0   \n",
       "2    normal           0        Kolkata Knight Riders            0   \n",
       "3    normal           0              Kings XI Punjab            0   \n",
       "4    normal           0  Royal Challengers Bangalore           15   \n",
       "5    normal           0          Sunrisers Hyderabad            0   \n",
       "6    normal           0               Mumbai Indians            0   \n",
       "7    normal           0              Kings XI Punjab            0   \n",
       "8    normal           0             Delhi Daredevils           97   \n",
       "9    normal           0               Mumbai Indians            0   \n",
       "10   normal           0        Kolkata Knight Riders            0   \n",
       "11   normal           0               Mumbai Indians            0   \n",
       "12   normal           0                Gujarat Lions            0   \n",
       "13   normal           0        Kolkata Knight Riders           17   \n",
       "14   normal           0             Delhi Daredevils           51   \n",
       "15   normal           0               Mumbai Indians            0   \n",
       "16   normal           0       Rising Pune Supergiant           27   \n",
       "17   normal           0        Kolkata Knight Riders            0   \n",
       "18   normal           0          Sunrisers Hyderabad            5   \n",
       "19   normal           0  Royal Challengers Bangalore           21   \n",
       "20   normal           0          Sunrisers Hyderabad           15   \n",
       "21   normal           0               Mumbai Indians            0   \n",
       "22   normal           0                Gujarat Lions            0   \n",
       "23   normal           0               Mumbai Indians           14   \n",
       "24   normal           0       Rising Pune Supergiant            0   \n",
       "25   normal           0              Kings XI Punjab           26   \n",
       "26   normal           0        Kolkata Knight Riders           82   \n",
       "27   normal           0       Rising Pune Supergiant            3   \n",
       "28   normal           0        Kolkata Knight Riders            0   \n",
       "29   normal           0                Gujarat Lions            0   \n",
       "..      ...         ...                          ...          ...   \n",
       "666  normal           0  Royal Challengers Bangalore           14   \n",
       "667  normal           1             Delhi Daredevils            4   \n",
       "668  normal           0        Kolkata Knight Riders            0   \n",
       "669  normal           0               Mumbai Indians            0   \n",
       "670  normal           0          Chennai Super Kings            0   \n",
       "671  normal           0          Sunrisers Hyderabad            0   \n",
       "672  normal           0               Mumbai Indians           13   \n",
       "673  normal           0              Kings XI Punjab            0   \n",
       "674  normal           0          Sunrisers Hyderabad            5   \n",
       "675  normal           0             Rajasthan Royals           15   \n",
       "676  normal           0               Mumbai Indians          102   \n",
       "677  normal           0          Sunrisers Hyderabad            0   \n",
       "678  normal           0             Rajasthan Royals            0   \n",
       "679  normal           0        Kolkata Knight Riders           31   \n",
       "680  normal           0  Royal Challengers Bangalore            0   \n",
       "681  normal           0          Chennai Super Kings            0   \n",
       "682  normal           0             Rajasthan Royals            0   \n",
       "683  normal           0  Royal Challengers Bangalore            0   \n",
       "684  normal           0        Kolkata Knight Riders            0   \n",
       "685  normal           0               Mumbai Indians            3   \n",
       "686  normal           0  Royal Challengers Bangalore           14   \n",
       "687  normal           0             Delhi Daredevils           34   \n",
       "688  normal           0             Rajasthan Royals           30   \n",
       "689  normal           0        Kolkata Knight Riders            0   \n",
       "690  normal           0             Delhi Daredevils           11   \n",
       "691  normal           0          Chennai Super Kings            0   \n",
       "692  normal           0          Chennai Super Kings            0   \n",
       "693  normal           0        Kolkata Knight Riders           25   \n",
       "694  normal           0          Sunrisers Hyderabad           14   \n",
       "695  normal           0          Chennai Super Kings            0   \n",
       "\n",
       "     win_by_wickets  player_of_match  \\\n",
       "0                 0     Yuvraj Singh   \n",
       "1                 7        SPD Smith   \n",
       "2                10          CA Lynn   \n",
       "3                 6       GJ Maxwell   \n",
       "4                 0        KM Jadhav   \n",
       "5                 9      Rashid Khan   \n",
       "6                 4           N Rana   \n",
       "7                 8         AR Patel   \n",
       "8                 0        SV Samson   \n",
       "9                 4        JJ Bumrah   \n",
       "10                8        SP Narine   \n",
       "11                4       KA Pollard   \n",
       "12                7           AJ Tye   \n",
       "13                0       RV Uthappa   \n",
       "14                0      CJ Anderson   \n",
       "15                6           N Rana   \n",
       "16                0        BA Stokes   \n",
       "17                4  NM Coulter-Nile   \n",
       "18                0          B Kumar   \n",
       "19                0         CH Gayle   \n",
       "20                0    KS Williamson   \n",
       "21                8       JC Buttler   \n",
       "22                4         SK Raina   \n",
       "23                0   MJ McClenaghan   \n",
       "24                6         MS Dhoni   \n",
       "25                0          HM Amla   \n",
       "26                0  NM Coulter-Nile   \n",
       "27                0        BA Stokes   \n",
       "28                7       RV Uthappa   \n",
       "29                7           AJ Tye   \n",
       "..              ...              ...   \n",
       "666               0       TG Southee   \n",
       "667               0          RR Pant   \n",
       "668               6        SP Narine   \n",
       "669               6         AS Yadav   \n",
       "670               6        RA Jadeja   \n",
       "671               7      Rashid Khan   \n",
       "672               0        HH Pandya   \n",
       "673               6      M Ur Rahman   \n",
       "674               0    KS Williamson   \n",
       "675               0       JC Buttler   \n",
       "676               0     Ishan Kishan   \n",
       "677               9         S Dhawan   \n",
       "678               4       JC Buttler   \n",
       "679               0        SP Narine   \n",
       "680               5   AB de Villiers   \n",
       "681               8        AT Rayudu   \n",
       "682               7       JC Buttler   \n",
       "683              10         UT Yadav   \n",
       "684               6    Kuldeep Yadav   \n",
       "685               0        JJ Bumrah   \n",
       "686               0   AB de Villiers   \n",
       "687               0         HV Patel   \n",
       "688               0          S Gopal   \n",
       "689               5          CA Lynn   \n",
       "690               0         A Mishra   \n",
       "691               5          L Ngidi   \n",
       "692               2     F du Plessis   \n",
       "693               0       AD Russell   \n",
       "694               0      Rashid Khan   \n",
       "695               8        SR Watson   \n",
       "\n",
       "                                         venue                umpire1  \\\n",
       "0    Rajiv Gandhi International Stadium, Uppal            AY Dandekar   \n",
       "1      Maharashtra Cricket Association Stadium         A Nand Kishore   \n",
       "2       Saurashtra Cricket Association Stadium            Nitin Menon   \n",
       "3                       Holkar Cricket Stadium           AK Chaudhary   \n",
       "4                        M Chinnaswamy Stadium                    NaN   \n",
       "5    Rajiv Gandhi International Stadium, Uppal             A Deshmukh   \n",
       "6                             Wankhede Stadium            Nitin Menon   \n",
       "7                       Holkar Cricket Stadium           AK Chaudhary   \n",
       "8      Maharashtra Cricket Association Stadium            AY Dandekar   \n",
       "9                             Wankhede Stadium            Nitin Menon   \n",
       "10                                Eden Gardens             A Deshmukh   \n",
       "11                       M Chinnaswamy Stadium  KN Ananthapadmanabhan   \n",
       "12      Saurashtra Cricket Association Stadium         A Nand Kishore   \n",
       "13                                Eden Gardens            AY Dandekar   \n",
       "14                            Feroz Shah Kotla               YC Barde   \n",
       "15                            Wankhede Stadium         A Nand Kishore   \n",
       "16                       M Chinnaswamy Stadium  KN Ananthapadmanabhan   \n",
       "17                            Feroz Shah Kotla            Nitin Menon   \n",
       "18   Rajiv Gandhi International Stadium, Uppal            AY Dandekar   \n",
       "19      Saurashtra Cricket Association Stadium                 S Ravi   \n",
       "20   Rajiv Gandhi International Stadium, Uppal            CB Gaffaney   \n",
       "21                      Holkar Cricket Stadium              M Erasmus   \n",
       "22                                Eden Gardens            CB Gaffaney   \n",
       "23                            Wankhede Stadium         A Nand Kishore   \n",
       "24     Maharashtra Cricket Association Stadium            AY Dandekar   \n",
       "25      Saurashtra Cricket Association Stadium           AK Chaudhary   \n",
       "26                                Eden Gardens            CB Gaffaney   \n",
       "27                            Wankhede Stadium         A Nand Kishore   \n",
       "28     Maharashtra Cricket Association Stadium            AY Dandekar   \n",
       "29                       M Chinnaswamy Stadium           AK Chaudhary   \n",
       "..                                         ...                    ...   \n",
       "666                      M Chinnaswamy Stadium         Marais Erasmus   \n",
       "667                           Feroz Shah Kotla               O Nandan   \n",
       "668                               Eden Gardens       Kumar Dharmasena   \n",
       "669                     Holkar Cricket Stadium                 S Ravi   \n",
       "670    Maharashtra Cricket Association Stadium            Nitin Menon   \n",
       "671  Rajiv Gandhi International Stadium, Uppal         Bruce Oxenford   \n",
       "672                           Wankhede Stadium       Kumar Dharmasena   \n",
       "673                     Holkar Cricket Stadium          C Shamshuddin   \n",
       "674  Rajiv Gandhi International Stadium, Uppal         Bruce Oxenford   \n",
       "675                     Sawai Mansingh Stadium         Marais Erasmus   \n",
       "676                               Eden Gardens         Anil Chaudhary   \n",
       "677                           Feroz Shah Kotla          C Shamshuddin   \n",
       "678                     Sawai Mansingh Stadium         Marais Erasmus   \n",
       "679                     Holkar Cricket Stadium               O Nandan   \n",
       "680                           Feroz Shah Kotla       Kumar Dharmasena   \n",
       "681    Maharashtra Cricket Association Stadium         Marais Erasmus   \n",
       "682                           Wankhede Stadium            Nitin Menon   \n",
       "683                     Holkar Cricket Stadium         Bruce Oxenford   \n",
       "684                               Eden Gardens       Kumar Dharmasena   \n",
       "685                           Wankhede Stadium         Marais Erasmus   \n",
       "686                      M Chinnaswamy Stadium                 S Ravi   \n",
       "687                           Feroz Shah Kotla       Kumar Dharmasena   \n",
       "688                     Sawai Mansingh Stadium         Bruce Oxenford   \n",
       "689  Rajiv Gandhi International Stadium, Uppal         Anil Chaudhary   \n",
       "690                           Feroz Shah Kotla       Kumar Dharmasena   \n",
       "691    Maharashtra Cricket Association Stadium            Nitin Menon   \n",
       "692                           Wankhede Stadium         Marais Erasmus   \n",
       "693                               Eden Gardens            Nitin Menon   \n",
       "694                               Eden Gardens            Nitin Menon   \n",
       "695                           Wankhede Stadium         Marais Erasmus   \n",
       "\n",
       "                   umpire2                umpire3  \n",
       "0                 NJ Llong                    NaN  \n",
       "1                   S Ravi                    NaN  \n",
       "2                CK Nandan                    NaN  \n",
       "3            C Shamshuddin                    NaN  \n",
       "4                      NaN                    NaN  \n",
       "5                 NJ Llong                    NaN  \n",
       "6                CK Nandan                    NaN  \n",
       "7            C Shamshuddin                    NaN  \n",
       "8                   S Ravi                    NaN  \n",
       "9                CK Nandan                    NaN  \n",
       "10                NJ Llong                    NaN  \n",
       "11            AK Chaudhary                    NaN  \n",
       "12                  S Ravi                    NaN  \n",
       "13                NJ Llong                    NaN  \n",
       "14             Nitin Menon                    NaN  \n",
       "15                  S Ravi                    NaN  \n",
       "16           C Shamshuddin                    NaN  \n",
       "17               CK Nandan                    NaN  \n",
       "18              A Deshmukh                    NaN  \n",
       "19               VK Sharma                    NaN  \n",
       "20                NJ Llong                    NaN  \n",
       "21           C Shamshuddin                    NaN  \n",
       "22             Nitin Menon                    NaN  \n",
       "23                  S Ravi                    NaN  \n",
       "24              A Deshmukh                    NaN  \n",
       "25               M Erasmus                    NaN  \n",
       "26               CK Nandan                    NaN  \n",
       "27                  S Ravi                    NaN  \n",
       "28                NJ Llong                    NaN  \n",
       "29           C Shamshuddin                    NaN  \n",
       "..                     ...                    ...  \n",
       "666            Nitin Menon         Yeshwant Barde  \n",
       "667  Virender Kumar Sharma         Bruce Oxenford  \n",
       "668           A.D Deshmukh         Anil Chaudhary  \n",
       "669          Anil Dandekar          C Shamshuddin  \n",
       "670         Yeshwant Barde         Marais Erasmus  \n",
       "671               O Nandan  Virender Kumar Sharma  \n",
       "672           A.D Deshmukh         Anil Chaudhary  \n",
       "673                 S Ravi          Anil Dandekar  \n",
       "674  Virender Kumar Sharma               O Nandan  \n",
       "675            Nitin Menon         Yeshwant Barde  \n",
       "676   K Ananthapadmanabhan       Kumar Dharmasena  \n",
       "677          Anil Dandekar                 S Ravi  \n",
       "678         Yeshwant Barde            Nitin Menon  \n",
       "679  Virender Kumar Sharma         Bruce Oxenford  \n",
       "680         Anil Chaudhary   K Ananthapadmanabhan  \n",
       "681         Yeshwant Barde          Anil Dandekar  \n",
       "682                 S Ravi          C Shamshuddin  \n",
       "683  Virender Kumar Sharma               O Nandan  \n",
       "684         Anil Chaudhary        Vineet Kulkarni  \n",
       "685            Nitin Menon         Yeshwant Barde  \n",
       "686          Anil Dandekar          C Shamshuddin  \n",
       "687        Vineet Kulkarni               O Nandan  \n",
       "688  Virender Kumar Sharma          C Shamshuddin  \n",
       "689                 S Ravi          Anil Dandekar  \n",
       "690               O Nandan        Vineet Kulkarni  \n",
       "691         Yeshwant Barde         Marais Erasmus  \n",
       "692          C Shamshuddin                 S Ravi  \n",
       "693         Anil Chaudhary       Kumar Dharmasena  \n",
       "694       Kumar Dharmasena         Anil Chaudhary  \n",
       "695                 S Ravi            Nitin Menon  \n",
       "\n",
       "[696 rows x 18 columns]>"
      ]
     },
     "execution_count": 24,
     "metadata": {},
     "output_type": "execute_result"
    }
   ],
   "source": [
    "df_matches.info"
   ]
  },
  {
   "cell_type": "code",
   "execution_count": 10,
   "metadata": {
    "scrolled": true
   },
   "outputs": [
    {
     "data": {
      "text/html": [
       "<div>\n",
       "<style scoped>\n",
       "    .dataframe tbody tr th:only-of-type {\n",
       "        vertical-align: middle;\n",
       "    }\n",
       "\n",
       "    .dataframe tbody tr th {\n",
       "        vertical-align: top;\n",
       "    }\n",
       "\n",
       "    .dataframe thead th {\n",
       "        text-align: right;\n",
       "    }\n",
       "</style>\n",
       "<table border=\"1\" class=\"dataframe\">\n",
       "  <thead>\n",
       "    <tr style=\"text-align: right;\">\n",
       "      <th></th>\n",
       "      <th>id</th>\n",
       "      <th>season</th>\n",
       "      <th>dl_applied</th>\n",
       "      <th>win_by_runs</th>\n",
       "      <th>win_by_wickets</th>\n",
       "    </tr>\n",
       "  </thead>\n",
       "  <tbody>\n",
       "    <tr>\n",
       "      <th>count</th>\n",
       "      <td>696.000000</td>\n",
       "      <td>696.000000</td>\n",
       "      <td>696.000000</td>\n",
       "      <td>696.000000</td>\n",
       "      <td>696.000000</td>\n",
       "    </tr>\n",
       "    <tr>\n",
       "      <th>mean</th>\n",
       "      <td>974.103448</td>\n",
       "      <td>2012.965517</td>\n",
       "      <td>0.027299</td>\n",
       "      <td>13.472701</td>\n",
       "      <td>3.349138</td>\n",
       "    </tr>\n",
       "    <tr>\n",
       "      <th>std</th>\n",
       "      <td>2143.239623</td>\n",
       "      <td>3.069266</td>\n",
       "      <td>0.163070</td>\n",
       "      <td>23.607994</td>\n",
       "      <td>3.411398</td>\n",
       "    </tr>\n",
       "    <tr>\n",
       "      <th>min</th>\n",
       "      <td>1.000000</td>\n",
       "      <td>2008.000000</td>\n",
       "      <td>0.000000</td>\n",
       "      <td>0.000000</td>\n",
       "      <td>0.000000</td>\n",
       "    </tr>\n",
       "    <tr>\n",
       "      <th>25%</th>\n",
       "      <td>174.750000</td>\n",
       "      <td>2010.000000</td>\n",
       "      <td>0.000000</td>\n",
       "      <td>0.000000</td>\n",
       "      <td>0.000000</td>\n",
       "    </tr>\n",
       "    <tr>\n",
       "      <th>50%</th>\n",
       "      <td>348.500000</td>\n",
       "      <td>2013.000000</td>\n",
       "      <td>0.000000</td>\n",
       "      <td>0.000000</td>\n",
       "      <td>3.000000</td>\n",
       "    </tr>\n",
       "    <tr>\n",
       "      <th>75%</th>\n",
       "      <td>522.250000</td>\n",
       "      <td>2016.000000</td>\n",
       "      <td>0.000000</td>\n",
       "      <td>19.000000</td>\n",
       "      <td>6.000000</td>\n",
       "    </tr>\n",
       "    <tr>\n",
       "      <th>max</th>\n",
       "      <td>7953.000000</td>\n",
       "      <td>2018.000000</td>\n",
       "      <td>1.000000</td>\n",
       "      <td>146.000000</td>\n",
       "      <td>10.000000</td>\n",
       "    </tr>\n",
       "  </tbody>\n",
       "</table>\n",
       "</div>"
      ],
      "text/plain": [
       "                id       season  dl_applied  win_by_runs  win_by_wickets\n",
       "count   696.000000   696.000000  696.000000   696.000000      696.000000\n",
       "mean    974.103448  2012.965517    0.027299    13.472701        3.349138\n",
       "std    2143.239623     3.069266    0.163070    23.607994        3.411398\n",
       "min       1.000000  2008.000000    0.000000     0.000000        0.000000\n",
       "25%     174.750000  2010.000000    0.000000     0.000000        0.000000\n",
       "50%     348.500000  2013.000000    0.000000     0.000000        3.000000\n",
       "75%     522.250000  2016.000000    0.000000    19.000000        6.000000\n",
       "max    7953.000000  2018.000000    1.000000   146.000000       10.000000"
      ]
     },
     "execution_count": 10,
     "metadata": {},
     "output_type": "execute_result"
    }
   ],
   "source": [
    "matches.describe()"
   ]
  },
  {
   "cell_type": "code",
   "execution_count": 74,
   "metadata": {},
   "outputs": [
    {
     "data": {
      "text/html": [
       "<div>\n",
       "<style scoped>\n",
       "    .dataframe tbody tr th:only-of-type {\n",
       "        vertical-align: middle;\n",
       "    }\n",
       "\n",
       "    .dataframe tbody tr th {\n",
       "        vertical-align: top;\n",
       "    }\n",
       "\n",
       "    .dataframe thead th {\n",
       "        text-align: right;\n",
       "    }\n",
       "</style>\n",
       "<table border=\"1\" class=\"dataframe\">\n",
       "  <thead>\n",
       "    <tr style=\"text-align: right;\">\n",
       "      <th></th>\n",
       "      <th>id</th>\n",
       "      <th>season</th>\n",
       "      <th>city</th>\n",
       "      <th>date</th>\n",
       "      <th>team1</th>\n",
       "      <th>team2</th>\n",
       "      <th>toss_winner</th>\n",
       "      <th>toss_decision</th>\n",
       "      <th>result</th>\n",
       "      <th>dl_applied</th>\n",
       "      <th>winner</th>\n",
       "      <th>win_by_runs</th>\n",
       "      <th>win_by_wickets</th>\n",
       "      <th>player_of_match</th>\n",
       "      <th>venue</th>\n",
       "      <th>umpire1</th>\n",
       "      <th>umpire2</th>\n",
       "      <th>umpire3</th>\n",
       "    </tr>\n",
       "  </thead>\n",
       "  <tbody>\n",
       "    <tr>\n",
       "      <th>0</th>\n",
       "      <td>1</td>\n",
       "      <td>2017</td>\n",
       "      <td>Hyderabad</td>\n",
       "      <td>2017-04-05</td>\n",
       "      <td>Sunrisers Hyderabad</td>\n",
       "      <td>Royal Challengers Bangalore</td>\n",
       "      <td>Royal Challengers Bangalore</td>\n",
       "      <td>field</td>\n",
       "      <td>normal</td>\n",
       "      <td>0</td>\n",
       "      <td>Sunrisers Hyderabad</td>\n",
       "      <td>35</td>\n",
       "      <td>0</td>\n",
       "      <td>Yuvraj Singh</td>\n",
       "      <td>Rajiv Gandhi International Stadium, Uppal</td>\n",
       "      <td>AY Dandekar</td>\n",
       "      <td>NJ Llong</td>\n",
       "      <td>NaN</td>\n",
       "    </tr>\n",
       "    <tr>\n",
       "      <th>1</th>\n",
       "      <td>2</td>\n",
       "      <td>2017</td>\n",
       "      <td>Pune</td>\n",
       "      <td>2017-04-06</td>\n",
       "      <td>Mumbai Indians</td>\n",
       "      <td>Rising Pune Supergiant</td>\n",
       "      <td>Rising Pune Supergiant</td>\n",
       "      <td>field</td>\n",
       "      <td>normal</td>\n",
       "      <td>0</td>\n",
       "      <td>Rising Pune Supergiant</td>\n",
       "      <td>0</td>\n",
       "      <td>7</td>\n",
       "      <td>SPD Smith</td>\n",
       "      <td>Maharashtra Cricket Association Stadium</td>\n",
       "      <td>A Nand Kishore</td>\n",
       "      <td>S Ravi</td>\n",
       "      <td>NaN</td>\n",
       "    </tr>\n",
       "    <tr>\n",
       "      <th>2</th>\n",
       "      <td>3</td>\n",
       "      <td>2017</td>\n",
       "      <td>Rajkot</td>\n",
       "      <td>2017-04-07</td>\n",
       "      <td>Gujarat Lions</td>\n",
       "      <td>Kolkata Knight Riders</td>\n",
       "      <td>Kolkata Knight Riders</td>\n",
       "      <td>field</td>\n",
       "      <td>normal</td>\n",
       "      <td>0</td>\n",
       "      <td>Kolkata Knight Riders</td>\n",
       "      <td>0</td>\n",
       "      <td>10</td>\n",
       "      <td>CA Lynn</td>\n",
       "      <td>Saurashtra Cricket Association Stadium</td>\n",
       "      <td>Nitin Menon</td>\n",
       "      <td>CK Nandan</td>\n",
       "      <td>NaN</td>\n",
       "    </tr>\n",
       "    <tr>\n",
       "      <th>3</th>\n",
       "      <td>4</td>\n",
       "      <td>2017</td>\n",
       "      <td>Indore</td>\n",
       "      <td>2017-04-08</td>\n",
       "      <td>Rising Pune Supergiant</td>\n",
       "      <td>Kings XI Punjab</td>\n",
       "      <td>Kings XI Punjab</td>\n",
       "      <td>field</td>\n",
       "      <td>normal</td>\n",
       "      <td>0</td>\n",
       "      <td>Kings XI Punjab</td>\n",
       "      <td>0</td>\n",
       "      <td>6</td>\n",
       "      <td>GJ Maxwell</td>\n",
       "      <td>Holkar Cricket Stadium</td>\n",
       "      <td>AK Chaudhary</td>\n",
       "      <td>C Shamshuddin</td>\n",
       "      <td>NaN</td>\n",
       "    </tr>\n",
       "    <tr>\n",
       "      <th>4</th>\n",
       "      <td>5</td>\n",
       "      <td>2017</td>\n",
       "      <td>Bangalore</td>\n",
       "      <td>2017-04-08</td>\n",
       "      <td>Royal Challengers Bangalore</td>\n",
       "      <td>Delhi Daredevils</td>\n",
       "      <td>Royal Challengers Bangalore</td>\n",
       "      <td>bat</td>\n",
       "      <td>normal</td>\n",
       "      <td>0</td>\n",
       "      <td>Royal Challengers Bangalore</td>\n",
       "      <td>15</td>\n",
       "      <td>0</td>\n",
       "      <td>KM Jadhav</td>\n",
       "      <td>M Chinnaswamy Stadium</td>\n",
       "      <td>NaN</td>\n",
       "      <td>NaN</td>\n",
       "      <td>NaN</td>\n",
       "    </tr>\n",
       "  </tbody>\n",
       "</table>\n",
       "</div>"
      ],
      "text/plain": [
       "   id  season       city        date                        team1  \\\n",
       "0   1    2017  Hyderabad  2017-04-05          Sunrisers Hyderabad   \n",
       "1   2    2017       Pune  2017-04-06               Mumbai Indians   \n",
       "2   3    2017     Rajkot  2017-04-07                Gujarat Lions   \n",
       "3   4    2017     Indore  2017-04-08       Rising Pune Supergiant   \n",
       "4   5    2017  Bangalore  2017-04-08  Royal Challengers Bangalore   \n",
       "\n",
       "                         team2                  toss_winner toss_decision  \\\n",
       "0  Royal Challengers Bangalore  Royal Challengers Bangalore         field   \n",
       "1       Rising Pune Supergiant       Rising Pune Supergiant         field   \n",
       "2        Kolkata Knight Riders        Kolkata Knight Riders         field   \n",
       "3              Kings XI Punjab              Kings XI Punjab         field   \n",
       "4             Delhi Daredevils  Royal Challengers Bangalore           bat   \n",
       "\n",
       "   result  dl_applied                       winner  win_by_runs  \\\n",
       "0  normal           0          Sunrisers Hyderabad           35   \n",
       "1  normal           0       Rising Pune Supergiant            0   \n",
       "2  normal           0        Kolkata Knight Riders            0   \n",
       "3  normal           0              Kings XI Punjab            0   \n",
       "4  normal           0  Royal Challengers Bangalore           15   \n",
       "\n",
       "   win_by_wickets player_of_match                                      venue  \\\n",
       "0               0    Yuvraj Singh  Rajiv Gandhi International Stadium, Uppal   \n",
       "1               7       SPD Smith    Maharashtra Cricket Association Stadium   \n",
       "2              10         CA Lynn     Saurashtra Cricket Association Stadium   \n",
       "3               6      GJ Maxwell                     Holkar Cricket Stadium   \n",
       "4               0       KM Jadhav                      M Chinnaswamy Stadium   \n",
       "\n",
       "          umpire1        umpire2 umpire3  \n",
       "0     AY Dandekar       NJ Llong     NaN  \n",
       "1  A Nand Kishore         S Ravi     NaN  \n",
       "2     Nitin Menon      CK Nandan     NaN  \n",
       "3    AK Chaudhary  C Shamshuddin     NaN  \n",
       "4             NaN            NaN     NaN  "
      ]
     },
     "execution_count": 74,
     "metadata": {},
     "output_type": "execute_result"
    }
   ],
   "source": [
    "df_matches.head()"
   ]
  },
  {
   "cell_type": "code",
   "execution_count": null,
   "metadata": {},
   "outputs": [],
   "source": [
    "How many matches we’ve got in the dataset?"
   ]
  },
  {
   "cell_type": "code",
   "execution_count": 25,
   "metadata": {},
   "outputs": [
    {
     "data": {
      "text/plain": [
       "696"
      ]
     },
     "execution_count": 25,
     "metadata": {},
     "output_type": "execute_result"
    }
   ],
   "source": [
    "df_matches['id'].count()"
   ]
  },
  {
   "cell_type": "code",
   "execution_count": null,
   "metadata": {},
   "outputs": [],
   "source": [
    "How many seasons we’ve got in the dataset?"
   ]
  },
  {
   "cell_type": "code",
   "execution_count": 26,
   "metadata": {},
   "outputs": [
    {
     "data": {
      "text/plain": [
       "array([2017, 2008, 2009, 2010, 2011, 2012, 2013, 2014, 2015, 2016, 2018],\n",
       "      dtype=int64)"
      ]
     },
     "execution_count": 26,
     "metadata": {},
     "output_type": "execute_result"
    }
   ],
   "source": [
    "df_matches['season'].unique()"
   ]
  },
  {
   "cell_type": "code",
   "execution_count": 16,
   "metadata": {},
   "outputs": [
    {
     "data": {
      "text/plain": [
       "11"
      ]
     },
     "execution_count": 16,
     "metadata": {},
     "output_type": "execute_result"
    }
   ],
   "source": [
    "len(df_matches['season'].unique())"
   ]
  },
  {
   "cell_type": "code",
   "execution_count": null,
   "metadata": {},
   "outputs": [],
   "source": [
    "Which Team had won by maximum runs?"
   ]
  },
  {
   "cell_type": "code",
   "execution_count": 17,
   "metadata": {},
   "outputs": [
    {
     "data": {
      "text/plain": [
       "id                               44\n",
       "season                         2017\n",
       "city                          Delhi\n",
       "date                     2017-05-06\n",
       "team1                Mumbai Indians\n",
       "team2              Delhi Daredevils\n",
       "toss_winner        Delhi Daredevils\n",
       "toss_decision                 field\n",
       "result                       normal\n",
       "dl_applied                        0\n",
       "winner               Mumbai Indians\n",
       "win_by_runs                     146\n",
       "win_by_wickets                    0\n",
       "player_of_match         LMP Simmons\n",
       "venue              Feroz Shah Kotla\n",
       "umpire1                 Nitin Menon\n",
       "umpire2                   CK Nandan\n",
       "umpire3                         NaN\n",
       "Name: 43, dtype: object"
      ]
     },
     "execution_count": 17,
     "metadata": {},
     "output_type": "execute_result"
    }
   ],
   "source": [
    "df_matches.iloc[matches['win_by_runs'].idxmax()]"
   ]
  },
  {
   "cell_type": "code",
   "execution_count": null,
   "metadata": {},
   "outputs": [],
   "source": [
    "Interested only in the winning team"
   ]
  },
  {
   "cell_type": "code",
   "execution_count": 27,
   "metadata": {},
   "outputs": [
    {
     "data": {
      "text/plain": [
       "'Mumbai Indians'"
      ]
     },
     "execution_count": 27,
     "metadata": {},
     "output_type": "execute_result"
    }
   ],
   "source": [
    "df_matches.iloc[matches['win_by_runs'].idxmax()]['winner']"
   ]
  },
  {
   "cell_type": "code",
   "execution_count": null,
   "metadata": {},
   "outputs": [],
   "source": [
    "Which Team had won by maximum wickets?"
   ]
  },
  {
   "cell_type": "code",
   "execution_count": 28,
   "metadata": {},
   "outputs": [
    {
     "data": {
      "text/plain": [
       "'Kolkata Knight Riders'"
      ]
     },
     "execution_count": 28,
     "metadata": {},
     "output_type": "execute_result"
    }
   ],
   "source": [
    "df_matches.iloc[matches['win_by_wickets'].idxmax()]['winner']"
   ]
  },
  {
   "cell_type": "code",
   "execution_count": null,
   "metadata": {},
   "outputs": [],
   "source": [
    "Which Team had won by minimum runs?"
   ]
  },
  {
   "cell_type": "code",
   "execution_count": 29,
   "metadata": {},
   "outputs": [
    {
     "data": {
      "text/plain": [
       "'Mumbai Indians'"
      ]
     },
     "execution_count": 29,
     "metadata": {},
     "output_type": "execute_result"
    }
   ],
   "source": [
    "df_matches.iloc[matches[matches['win_by_runs'].ge(1)].win_by_runs.idxmin()]['winner']"
   ]
  },
  {
   "cell_type": "code",
   "execution_count": null,
   "metadata": {},
   "outputs": [],
   "source": [
    "Number of matches based on seasons"
   ]
  },
  {
   "cell_type": "code",
   "execution_count": 10,
   "metadata": {},
   "outputs": [
    {
     "data": {
      "image/png": "[encoded data removed]",
      "text/plain": [
       "<Figure size 800x550 with 1 Axes>"
      ]
     },
     "metadata": {},
     "output_type": "display_data"
    }
   ],
   "source": [
    "sns.countplot(x='season',data=df_matches)\n",
    "plt.show()"
   ]
  },
  {
   "cell_type": "raw",
   "metadata": {},
   "source": [
    "Most successful team in all the seasons of IPL"
   ]
  },
  {
   "cell_type": "code",
   "execution_count": 78,
   "metadata": {},
   "outputs": [
    {
     "data": {
      "text/plain": [
       "<function matplotlib.pyplot.show(*args, **kw)>"
      ]
     },
     "execution_count": 78,
     "metadata": {},
     "output_type": "execute_result"
    },
    {
     "data": {
      "image/png": "[encoded data removed]",
      "text/plain": [
       "<Figure size 1008x576 with 1 Axes>"
      ]
     },
     "metadata": {},
     "output_type": "display_data"
    }
   ],
   "source": [
    "sns.countplot(y='winner', data = df_matches)\n",
    "plt.show"
   ]
  },
  {
   "cell_type": "code",
   "execution_count": null,
   "metadata": {},
   "outputs": [],
   "source": [
    "Top player of the match"
   ]
  },
  {
   "cell_type": "code",
   "execution_count": 44,
   "metadata": {},
   "outputs": [
    {
     "data": {
      "image/png": "[encoded data removed]",
      "text/plain": [
       "<Figure size 1008x576 with 1 Axes>"
      ]
     },
     "metadata": {},
     "output_type": "display_data"
    }
   ],
   "source": [
    "top_players = df_matches.player_of_match.value_counts()[:10]\n",
    "fig, ax = plt.subplots()\n",
    "ax.set_ylim([0,20])\n",
    "ax.set_ylabel(\"Count\")\n",
    "ax.set_title(\"Top player of the match Winners\")\n",
    "sns.barplot(x = top_players.index, y = top_players, orient='v')\n",
    "plt.show()"
   ]
  },
  {
   "cell_type": "raw",
   "metadata": {},
   "source": [
    "Toss-winning vs Match-winning"
   ]
  },
  {
   "cell_type": "code",
   "execution_count": 46,
   "metadata": {},
   "outputs": [
    {
     "data": {
      "text/plain": [
       "False    339\n",
       "True     357\n",
       "dtype: int64"
      ]
     },
     "execution_count": 46,
     "metadata": {},
     "output_type": "execute_result"
    }
   ],
   "source": [
    "result = df_matches['toss_winner'] == df_matches['winner']\n",
    "result.groupby(result).size()"
   ]
  },
  {
   "cell_type": "code",
   "execution_count": 47,
   "metadata": {},
   "outputs": [
    {
     "data": {
      "text/plain": [
       "<matplotlib.axes._subplots.AxesSubplot at 0x217d73a8ba8>"
      ]
     },
     "execution_count": 47,
     "metadata": {},
     "output_type": "execute_result"
    },
    {
     "data": {
      "image/png": "[encoded data removed]",
      "text/plain": [
       "<Figure size 1008x576 with 1 Axes>"
      ]
     },
     "metadata": {},
     "output_type": "display_data"
    }
   ],
   "source": [
    "sns.countplot(result)"
   ]
  },
  {
   "cell_type": "code",
   "execution_count": null,
   "metadata": {},
   "outputs": [],
   "source": [
    "Toss-winning team opted for Bat/Field - Season wise"
   ]
  },
  {
   "cell_type": "code",
   "execution_count": 53,
   "metadata": {},
   "outputs": [
    {
     "data": {
      "text/plain": [
       "Text(0.5, 0, 'Count')"
      ]
     },
     "execution_count": 53,
     "metadata": {},
     "output_type": "execute_result"
    },
    {
     "data": {
      "image/png": "[encoded data removed]",
      "text/plain": [
       "<Figure size 720x360 with 1 Axes>"
      ]
     },
     "metadata": {},
     "output_type": "display_data"
    }
   ],
   "source": [
    "plt.figure(figsize = (10,5))\n",
    "sns.countplot(hue='toss_decision', y='season', data= df_matches)\n",
    "plt.title('Toss Decision - Season')\n",
    "plt.ylabel('Toss Decision')\n",
    "plt.xlabel('Count')"
   ]
  },
  {
   "cell_type": "code",
   "execution_count": null,
   "metadata": {},
   "outputs": [],
   "source": [
    "Toss-winning team opted for Bat/Field - Team wise"
   ]
  },
  {
   "cell_type": "code",
   "execution_count": 66,
   "metadata": {},
   "outputs": [
    {
     "data": {
      "text/plain": [
       "Text(0, 0.5, 'Team Name')"
      ]
     },
     "execution_count": 66,
     "metadata": {},
     "output_type": "execute_result"
    },
    {
     "data": {
      "image/png": "[encoded data removed]",
      "text/plain": [
       "<Figure size 720x360 with 1 Axes>"
      ]
     },
     "metadata": {},
     "output_type": "display_data"
    }
   ],
   "source": [
    "plt.figure(figsize = (10,5))\n",
    "sns.countplot(hue='toss_decision', y='toss_winner', data= df_matches)\n",
    "plt.title('Toss Decision - Toss_Winner')\n",
    "plt.xlabel('Count')\n",
    "plt.ylabel('Team Name')"
   ]
  },
  {
   "cell_type": "code",
   "execution_count": null,
   "metadata": {},
   "outputs": [],
   "source": [
    "Match Result"
   ]
  },
  {
   "cell_type": "code",
   "execution_count": 58,
   "metadata": {},
   "outputs": [
    {
     "data": {
      "text/plain": [
       "Text(0, 0.5, 'Match Count')"
      ]
     },
     "execution_count": 58,
     "metadata": {},
     "output_type": "execute_result"
    },
    {
     "data": {
      "image/png": "[encoded data removed]",
      "text/plain": [
       "<Figure size 360x360 with 1 Axes>"
      ]
     },
     "metadata": {},
     "output_type": "display_data"
    }
   ],
   "source": [
    "plt.figure(figsize = (5,5))\n",
    "sns.countplot(x='result', data= df_matches, palette= 'viridis')\n",
    "plt.title('Match Result')\n",
    "plt.xlabel('Result Type')\n",
    "plt.ylabel('Match Count')"
   ]
  },
  {
   "cell_type": "code",
   "execution_count": null,
   "metadata": {},
   "outputs": [],
   "source": []
  },
  {
   "cell_type": "code",
   "execution_count": 5,
   "metadata": {},
   "outputs": [
    {
     "data": {
      "text/plain": [
       "Text(0, 0.5, 'Team')"
      ]
     },
     "execution_count": 5,
     "metadata": {},
     "output_type": "execute_result"
    },
    {
     "data": {
      "image/png": "[encoded data removed]",
      "text/plain": [
       "<Figure size 800x550 with 1 Axes>"
      ]
     },
     "metadata": {},
     "output_type": "display_data"
    }
   ],
   "source": [
    "plt.figure()\n",
    "sns.countplot(hue='result', y='winner',data= df_matches)\n",
    "plt.title('Team - Result Type')\n",
    "plt.xlabel('Count')\n",
    "plt.ylabel('Team')\n",
    "\n"
   ]
  },
  {
   "cell_type": "code",
   "execution_count": 8,
   "metadata": {},
   "outputs": [
    {
     "data": {
      "text/plain": [
       "id                                                            674407\n",
       "season                                                       1380892\n",
       "date               2017-04-052017-04-062017-04-072017-04-082017-0...\n",
       "team1              Sunrisers HyderabadMumbai IndiansGujarat Lions...\n",
       "team2              Royal Challengers BangaloreRising Pune Supergi...\n",
       "toss_winner        Royal Challengers BangaloreRising Pune Supergi...\n",
       "toss_decision      fieldfieldfieldfieldbatfieldfieldbatfieldfield...\n",
       "result             normalnormalnormalnormalnormalnormalnormalnorm...\n",
       "dl_applied                                                        19\n",
       "winner             Sunrisers HyderabadRising Pune SupergiantKolka...\n",
       "win_by_runs                                                     9377\n",
       "win_by_wickets                                                  2331\n",
       "player_of_match    Yuvraj SinghSPD SmithCA LynnGJ MaxwellKM Jadha...\n",
       "venue              Rajiv Gandhi International Stadium, UppalMahar...\n",
       "dtype: object"
      ]
     },
     "execution_count": 8,
     "metadata": {},
     "output_type": "execute_result"
    }
   ],
   "source": [
    "df_matches.loc[df_matches['result']=='normal'].sum()"
   ]
  }
 ],
 "metadata": {
  "kernelspec": {
   "display_name": "Python 3",
   "language": "python",
   "name": "python3"
  },
  "language_info": {
   "codemirror_mode": {
    "name": "ipython",
    "version": 3
   },
   "file_extension": ".py",
   "mimetype": "text/x-python",
   "name": "python",
   "nbconvert_exporter": "python",
   "pygments_lexer": "ipython3",
   "version": "3.7.1"
  }
 },
 "nbformat": 4,
 "nbformat_minor": 2
}
